{
 "cells": [
  {
   "cell_type": "markdown",
   "metadata": {},
   "source": [
    "### 10-2-1 (続き)\n",
    "■ 定数の値を取得する"
   ]
  },
  {
   "cell_type": "code",
   "execution_count": null,
   "metadata": {},
   "outputs": [
    {
     "name": "stdout",
     "output_type": "stream",
     "text": [
      "1\n"
     ]
    },
    {
     "ename": "NameError",
     "evalue": "uninitialized constant HasConstant::UNDEFINED_CONST_VARIABLE",
     "output_type": "error",
     "traceback": [
      "\u001b[31mNameError\u001b[0m: uninitialized constant HasConstant::UNDEFINED_CONST_VARIABLE",
      "<main>:5:in `const_get'",
      "<main>:5:in `<main>'",
      "/home/aki/.rbenv/versions/2.7.1/lib/ruby/gems/2.7.0/gems/iruby-0.4.0/lib/iruby/backend.rb:44:in `eval'",
      "/home/aki/.rbenv/versions/2.7.1/lib/ruby/gems/2.7.0/gems/iruby-0.4.0/lib/iruby/backend.rb:44:in `eval'",
      "/home/aki/.rbenv/versions/2.7.1/lib/ruby/gems/2.7.0/gems/iruby-0.4.0/lib/iruby/backend.rb:12:in `eval'",
      "/home/aki/.rbenv/versions/2.7.1/lib/ruby/gems/2.7.0/gems/iruby-0.4.0/lib/iruby/kernel.rb:90:in `execute_request'",
      "/home/aki/.rbenv/versions/2.7.1/lib/ruby/gems/2.7.0/gems/iruby-0.4.0/lib/iruby/kernel.rb:49:in `dispatch'",
      "/home/aki/.rbenv/versions/2.7.1/lib/ruby/gems/2.7.0/gems/iruby-0.4.0/lib/iruby/kernel.rb:38:in `run'",
      "/home/aki/.rbenv/versions/2.7.1/lib/ruby/gems/2.7.0/gems/iruby-0.4.0/lib/iruby/command.rb:110:in `run_kernel'",
      "/home/aki/.rbenv/versions/2.7.1/lib/ruby/gems/2.7.0/gems/iruby-0.4.0/lib/iruby/command.rb:40:in `run'",
      "/home/aki/.rbenv/versions/2.7.1/lib/ruby/gems/2.7.0/gems/iruby-0.4.0/bin/iruby:5:in `<top (required)>'",
      "/home/aki/.rbenv/versions/2.7.1/bin/iruby:23:in `load'",
      "/home/aki/.rbenv/versions/2.7.1/bin/iruby:23:in `<main>'"
     ]
    }
   ],
   "source": [
    "class HasConstant\n",
    "  CONST_VARIABLE = 1\n",
    "end\n",
    "\n",
    "p HasConstant.const_get :CONST_VARIABLE\n",
    "HasConstant.const_get :UNDEFINED_CONST_VARIABLE"
   ]
  },
  {
   "cell_type": "code",
   "execution_count": null,
   "metadata": {},
   "outputs": [
    {
     "ename": "NameError",
     "evalue": "wrong constant name not_const_variable",
     "output_type": "error",
     "traceback": [
      "\u001b[31mNameError\u001b[0m: wrong constant name not_const_variable",
      "<main>:in `const_get'",
      "<main>:in `<main>'",
      "/home/aki/.rbenv/versions/2.7.1/lib/ruby/gems/2.7.0/gems/iruby-0.4.0/lib/iruby/backend.rb:44:in `eval'",
      "/home/aki/.rbenv/versions/2.7.1/lib/ruby/gems/2.7.0/gems/iruby-0.4.0/lib/iruby/backend.rb:44:in `eval'",
      "/home/aki/.rbenv/versions/2.7.1/lib/ruby/gems/2.7.0/gems/iruby-0.4.0/lib/iruby/backend.rb:12:in `eval'",
      "/home/aki/.rbenv/versions/2.7.1/lib/ruby/gems/2.7.0/gems/iruby-0.4.0/lib/iruby/kernel.rb:90:in `execute_request'",
      "/home/aki/.rbenv/versions/2.7.1/lib/ruby/gems/2.7.0/gems/iruby-0.4.0/lib/iruby/kernel.rb:49:in `dispatch'",
      "/home/aki/.rbenv/versions/2.7.1/lib/ruby/gems/2.7.0/gems/iruby-0.4.0/lib/iruby/kernel.rb:38:in `run'",
      "/home/aki/.rbenv/versions/2.7.1/lib/ruby/gems/2.7.0/gems/iruby-0.4.0/lib/iruby/command.rb:110:in `run_kernel'",
      "/home/aki/.rbenv/versions/2.7.1/lib/ruby/gems/2.7.0/gems/iruby-0.4.0/lib/iruby/command.rb:40:in `run'",
      "/home/aki/.rbenv/versions/2.7.1/lib/ruby/gems/2.7.0/gems/iruby-0.4.0/bin/iruby:5:in `<top (required)>'",
      "/home/aki/.rbenv/versions/2.7.1/bin/iruby:23:in `load'",
      "/home/aki/.rbenv/versions/2.7.1/bin/iruby:23:in `<main>'"
     ]
    }
   ],
   "source": [
    "HasConstant.const_get :not_const_variable"
   ]
  },
  {
   "cell_type": "markdown",
   "metadata": {},
   "source": [
    "■ クラスに新たな定数を設定する"
   ]
  },
  {
   "cell_type": "code",
   "execution_count": 5,
   "metadata": {},
   "outputs": [
    {
     "name": "stdout",
     "output_type": "stream",
     "text": [
      "[]\n",
      "1\n",
      "[:CONST_VAR]\n",
      "1\n"
     ]
    },
    {
     "name": "stderr",
     "output_type": "stream",
     "text": [
      "<main>:8: warning: already initialized constant BlankClass::CONST_VAR\n",
      "<main>:4: warning: previous definition of CONST_VAR was here\n"
     ]
    },
    {
     "name": "stdout",
     "output_type": "stream",
     "text": [
      "2\n",
      "[:CONST_VAR]\n"
     ]
    },
    {
     "data": {
      "text/plain": [
       "2"
      ]
     },
     "execution_count": 5,
     "metadata": {},
     "output_type": "execute_result"
    }
   ],
   "source": [
    "class BlankClass\n",
    "end\n",
    "\n",
    "p BlankClass.constants\n",
    "p BlankClass.const_set :CONST_VAR, 1\n",
    "p BlankClass.constants\n",
    "p BlankClass.const_get :CONST_VAR\n",
    "\n",
    "p BlankClass.const_set :CONST_VAR, 2\n",
    "p BlankClass.constants\n",
    "BlankClass.const_get :CONST_VAR"
   ]
  },
  {
   "cell_type": "markdown",
   "metadata": {},
   "source": [
    "### 10-2-2 クラスが持つメソッドを調べる"
   ]
  },
  {
   "cell_type": "code",
   "execution_count": 6,
   "metadata": {},
   "outputs": [
    {
     "data": {
      "text/plain": [
       ":protected_method"
      ]
     },
     "execution_count": 6,
     "metadata": {},
     "output_type": "execute_result"
    }
   ],
   "source": [
    "class ParentClass\n",
    "  def super_public_method; end\n",
    "  \n",
    "  private\n",
    "  def super_private_method; end\n",
    "  \n",
    "  protected\n",
    "  def super_protected_method; end\n",
    "end\n",
    "\n",
    "class ChildClass < ParentClass\n",
    "  def public_method; end\n",
    "  \n",
    "  private\n",
    "  def private_method; end\n",
    "  \n",
    "  protected\n",
    "  def protected_method; end\n",
    "end"
   ]
  },
  {
   "cell_type": "code",
   "execution_count": 8,
   "metadata": {},
   "outputs": [
    {
     "data": {
      "text/plain": [
       "[:public_method, :protected_method, :super_public_method, :super_protected_method, :to_json, :dup, :itself, :yield_self, :then, :taint, :tainted?, :untaint, :untrust, :untrusted?, :trust, :frozen?, :methods, :singleton_methods, :protected_methods, :private_methods, :public_methods, :instance_variables, :instance_variable_get, :instance_variable_set, :instance_variable_defined?, :remove_instance_variable, :instance_of?, :kind_of?, :is_a?, :tap, :singleton_class, :clone, :display, :class, :hash, :public_send, :method, :singleton_method, :define_singleton_method, :extend, :to_enum, :enum_for, :<=>, :===, :=~, :!~, :nil?, :eql?, :respond_to?, :freeze, :inspect, :object_id, :send, :to_s, :__send__, :!, :==, :!=, :equal?, :__id__, :instance_eval, :instance_exec]"
      ]
     },
     "execution_count": 8,
     "metadata": {},
     "output_type": "execute_result"
    }
   ],
   "source": [
    "ChildClass.instance_methods"
   ]
  },
  {
   "cell_type": "code",
   "execution_count": 9,
   "metadata": {},
   "outputs": [
    {
     "data": {
      "text/plain": [
       "[:public_method, :super_public_method, :to_json, :dup, :itself, :yield_self, :then, :taint, :tainted?, :untaint, :untrust, :untrusted?, :trust, :frozen?, :methods, :singleton_methods, :protected_methods, :private_methods, :public_methods, :instance_variables, :instance_variable_get, :instance_variable_set, :instance_variable_defined?, :remove_instance_variable, :instance_of?, :kind_of?, :is_a?, :tap, :singleton_class, :clone, :display, :class, :hash, :public_send, :method, :singleton_method, :define_singleton_method, :extend, :to_enum, :enum_for, :<=>, :===, :=~, :!~, :nil?, :eql?, :respond_to?, :freeze, :inspect, :object_id, :send, :to_s, :__send__, :!, :==, :!=, :equal?, :__id__, :instance_eval, :instance_exec]"
      ]
     },
     "execution_count": 9,
     "metadata": {},
     "output_type": "execute_result"
    }
   ],
   "source": [
    "ChildClass.public_instance_methods"
   ]
  },
  {
   "cell_type": "code",
   "execution_count": 10,
   "metadata": {},
   "outputs": [
    {
     "data": {
      "text/plain": [
       "[:private_method, :super_private_method, :DelegateClass, :Digest, :sprintf, :format, :Integer, :Float, :String, :Array, :Hash, :local_variables, :srand, :p, :trap, :warn, :rand, :system, :spawn, :raise, :fail, :global_variables, :__method__, :__callee__, :__dir__, :autoload, :require, :require_relative, :binding, :eval, :iterator?, :block_given?, :catch, :throw, :loop, :autoload?, :jj, :exec, :exit!, :abort, :URI, :trace_var, :untrace_var, :at_exit, :gem, :`, :JSON, :select, :j, :Rational, :Complex, :respond_to_missing?, :Pathname, :caller, :caller_locations, :test, :gets, :proc, :lambda, :fork, :initialize_copy, :initialize_clone, :initialize_dup, :exit, :set_trace_func, :gem_original_require, :sleep, :pp, :load, :syscall, :open, :printf, :print, :putc, :puts, :readline, :readlines, :initialize, :method_missing, :singleton_method_added, :singleton_method_removed, :singleton_method_undefined]"
      ]
     },
     "execution_count": 10,
     "metadata": {},
     "output_type": "execute_result"
    }
   ],
   "source": [
    "ChildClass.private_instance_methods"
   ]
  },
  {
   "cell_type": "code",
   "execution_count": 11,
   "metadata": {},
   "outputs": [
    {
     "data": {
      "text/plain": [
       "[:protected_method, :super_protected_method]"
      ]
     },
     "execution_count": 11,
     "metadata": {},
     "output_type": "execute_result"
    }
   ],
   "source": [
    "ChildClass.protected_instance_methods"
   ]
  },
  {
   "cell_type": "code",
   "execution_count": 15,
   "metadata": {},
   "outputs": [
    {
     "name": "stdout",
     "output_type": "stream",
     "text": [
      "true\n",
      "false\n"
     ]
    },
    {
     "data": {
      "text/plain": [
       "true"
      ]
     },
     "execution_count": 15,
     "metadata": {},
     "output_type": "execute_result"
    }
   ],
   "source": [
    "p ChildClass.method_defined? :public_method\n",
    "p ChildClass.method_defined? :private_method\n",
    "ChildClass.method_defined? :protected_method"
   ]
  },
  {
   "cell_type": "code",
   "execution_count": 14,
   "metadata": {},
   "outputs": [
    {
     "data": {
      "text/plain": [
       "true"
      ]
     },
     "execution_count": 14,
     "metadata": {},
     "output_type": "execute_result"
    }
   ],
   "source": [
    "ChildClass.private_method_defined? :private_method"
   ]
  },
  {
   "cell_type": "markdown",
   "metadata": {},
   "source": [
    "次回は 「10-2-3 クラスの継承構造を調べる」から"
   ]
  }
 ],
 "metadata": {
  "kernelspec": {
   "display_name": "Ruby 2.7.1",
   "language": "ruby",
   "name": "ruby"
  },
  "language_info": {
   "file_extension": ".rb",
   "mimetype": "application/x-ruby",
   "name": "ruby",
   "version": "2.7.1"
  }
 },
 "nbformat": 4,
 "nbformat_minor": 4
}
