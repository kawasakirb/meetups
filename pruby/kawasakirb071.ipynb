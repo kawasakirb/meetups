{
 "cells": [
  {
   "cell_type": "markdown",
   "metadata": {},
   "source": [
    "### ■ ModuleまたはClassのコンテキストでusingする"
   ]
  },
  {
   "cell_type": "code",
   "execution_count": 2,
   "metadata": {},
   "outputs": [
    {
     "name": "stdout",
     "output_type": "stream",
     "text": [
      "Foo hello\n",
      "Bar hello\n"
     ]
    },
    {
     "ename": "NoMethodError",
     "evalue": "undefined method `hello' for \"Bar\":String",
     "output_type": "error",
     "traceback": [
      "\u001b[31mNoMethodError\u001b[0m: undefined method `hello' for \"Bar\":String",
      "\u001b[37m<main>:17:in `hello_bar'\u001b[0m",
      "\u001b[37m<main>:31:in `<main>'\u001b[0m",
      "\u001b[37m/Users/ariga/.rbenv/versions/2.5.1/lib/ruby/gems/2.5.0/gems/iruby-0.3/lib/iruby/backend.rb:44:in `eval'\u001b[0m",
      "\u001b[37m/Users/ariga/.rbenv/versions/2.5.1/lib/ruby/gems/2.5.0/gems/iruby-0.3/lib/iruby/backend.rb:44:in `eval'\u001b[0m",
      "\u001b[37m/Users/ariga/.rbenv/versions/2.5.1/lib/ruby/gems/2.5.0/gems/iruby-0.3/lib/iruby/backend.rb:12:in `eval'\u001b[0m",
      "\u001b[37m/Users/ariga/.rbenv/versions/2.5.1/lib/ruby/gems/2.5.0/gems/iruby-0.3/lib/iruby/kernel.rb:87:in `execute_request'\u001b[0m",
      "\u001b[37m/Users/ariga/.rbenv/versions/2.5.1/lib/ruby/gems/2.5.0/gems/iruby-0.3/lib/iruby/kernel.rb:47:in `dispatch'\u001b[0m",
      "\u001b[37m/Users/ariga/.rbenv/versions/2.5.1/lib/ruby/gems/2.5.0/gems/iruby-0.3/lib/iruby/kernel.rb:37:in `run'\u001b[0m",
      "\u001b[37m/Users/ariga/.rbenv/versions/2.5.1/lib/ruby/gems/2.5.0/gems/iruby-0.3/lib/iruby/command.rb:70:in `run_kernel'\u001b[0m",
      "\u001b[37m/Users/ariga/.rbenv/versions/2.5.1/lib/ruby/gems/2.5.0/gems/iruby-0.3/lib/iruby/command.rb:34:in `run'\u001b[0m",
      "\u001b[37m/Users/ariga/.rbenv/versions/2.5.1/lib/ruby/gems/2.5.0/gems/iruby-0.3/bin/iruby:5:in `<top (required)>'\u001b[0m",
      "\u001b[37m/Users/ariga/.rbenv/versions/2.5.1/bin/iruby:23:in `load'\u001b[0m",
      "\u001b[37m/Users/ariga/.rbenv/versions/2.5.1/bin/iruby:23:in `<main>'\u001b[0m"
     ]
    }
   ],
   "source": [
    "module RefineModule\n",
    "  refine String do\n",
    "    def hello\n",
    "      puts \"#{self} hello\"\n",
    "    end\n",
    "  end\n",
    "end\n",
    "\n",
    "class Foo\n",
    "  using RefineModule\n",
    "  \n",
    "  def hello_foo\n",
    "    \"Foo\".hello\n",
    "  end\n",
    "end\n",
    "\n",
    "class Bar\n",
    "  def hello_bar\n",
    "    \"Bar\".hello\n",
    "  end\n",
    "end\n",
    "\n",
    "class Bar\n",
    "  using RefineModule\n",
    "  \n",
    "  def hello_bar2\n",
    "    \"Bar\".hello\n",
    "  end\n",
    "end\n",
    "\n",
    "Foo.new.hello_foo\n",
    "Bar.new.hello_bar2\n",
    "Bar.new.hello_bar"
   ]
  },
  {
   "cell_type": "code",
   "execution_count": 4,
   "metadata": {},
   "outputs": [
    {
     "name": "stdout",
     "output_type": "stream",
     "text": [
      "Bar hello\n"
     ]
    }
   ],
   "source": [
    "Bar.class_eval do\n",
    "  using RefineModule\n",
    "  \n",
    "  def hello_bar3\n",
    "    \"Bar\".hello\n",
    "  end  \n",
    "end\n",
    "\n",
    "Bar.new.hello_bar3"
   ]
  },
  {
   "cell_type": "code",
   "execution_count": 5,
   "metadata": {},
   "outputs": [
    {
     "name": "stdout",
     "output_type": "stream",
     "text": [
      "Bar hello\n"
     ]
    }
   ],
   "source": [
    "Bar.class_eval <<-EOC\n",
    "  using RefineModule\n",
    "  \n",
    "  def hello_bar4\n",
    "    \"Bar\".hello\n",
    "  end\n",
    "EOC\n",
    "\n",
    "Bar.new.hello_bar4"
   ]
  },
  {
   "cell_type": "markdown",
   "metadata": {},
   "source": [
    "#### ■Refinementsをつかってクラスメソッドを定義する"
   ]
  },
  {
   "cell_type": "code",
   "execution_count": 7,
   "metadata": {},
   "outputs": [
    {
     "name": "stdout",
     "output_type": "stream",
     "text": [
      "String hello class\n"
     ]
    },
    {
     "ename": "NoMethodError",
     "evalue": "undefined method `hello' for String:Class",
     "output_type": "error",
     "traceback": [
      "\u001b[31mNoMethodError\u001b[0m: undefined method `hello' for String:Class",
      "\u001b[37m<main>:17:in `<main>'\u001b[0m",
      "\u001b[37m/Users/ariga/.rbenv/versions/2.5.1/lib/ruby/gems/2.5.0/gems/iruby-0.3/lib/iruby/backend.rb:44:in `eval'\u001b[0m",
      "\u001b[37m/Users/ariga/.rbenv/versions/2.5.1/lib/ruby/gems/2.5.0/gems/iruby-0.3/lib/iruby/backend.rb:44:in `eval'\u001b[0m",
      "\u001b[37m/Users/ariga/.rbenv/versions/2.5.1/lib/ruby/gems/2.5.0/gems/iruby-0.3/lib/iruby/backend.rb:12:in `eval'\u001b[0m",
      "\u001b[37m/Users/ariga/.rbenv/versions/2.5.1/lib/ruby/gems/2.5.0/gems/iruby-0.3/lib/iruby/kernel.rb:87:in `execute_request'\u001b[0m",
      "\u001b[37m/Users/ariga/.rbenv/versions/2.5.1/lib/ruby/gems/2.5.0/gems/iruby-0.3/lib/iruby/kernel.rb:47:in `dispatch'\u001b[0m",
      "\u001b[37m/Users/ariga/.rbenv/versions/2.5.1/lib/ruby/gems/2.5.0/gems/iruby-0.3/lib/iruby/kernel.rb:37:in `run'\u001b[0m",
      "\u001b[37m/Users/ariga/.rbenv/versions/2.5.1/lib/ruby/gems/2.5.0/gems/iruby-0.3/lib/iruby/command.rb:70:in `run_kernel'\u001b[0m",
      "\u001b[37m/Users/ariga/.rbenv/versions/2.5.1/lib/ruby/gems/2.5.0/gems/iruby-0.3/lib/iruby/command.rb:34:in `run'\u001b[0m",
      "\u001b[37m/Users/ariga/.rbenv/versions/2.5.1/lib/ruby/gems/2.5.0/gems/iruby-0.3/bin/iruby:5:in `<top (required)>'\u001b[0m",
      "\u001b[37m/Users/ariga/.rbenv/versions/2.5.1/bin/iruby:23:in `load'\u001b[0m",
      "\u001b[37m/Users/ariga/.rbenv/versions/2.5.1/bin/iruby:23:in `<main>'\u001b[0m"
     ]
    }
   ],
   "source": [
    "module RefineModule\n",
    "  refine String.singleton_class do\n",
    "    def hello\n",
    "    puts \"#{self} hello class\"\n",
    "    end\n",
    "  end\n",
    "end\n",
    "\n",
    "class Foo\n",
    "  using RefineModule\n",
    "  \n",
    "  def hey\n",
    "    String.hello\n",
    "  end\n",
    "end\n",
    "\n",
    "Foo.new.hey\n",
    "String.hello"
   ]
  },
  {
   "cell_type": "markdown",
   "metadata": {},
   "source": [
    "### 7-2-2 Refinementsの適用スコープについて"
   ]
  },
  {
   "cell_type": "code",
   "execution_count": 19,
   "metadata": {},
   "outputs": [
    {
     "name": "stdout",
     "output_type": "stream",
     "text": [
      "require_relative './create_proc'\n",
      "\n",
      "module RefineModule\n",
      "  refine String do\n",
      "    def hello\n",
      "      puts \"#{self} hello\"\n",
      "    end\n",
      "  end\n",
      "end\n",
      "\n",
      "using RefineModule\n",
      "  \n",
      "pr = create_proc\n",
      "pr.call\n",
      "\n"
     ]
    }
   ],
   "source": [
    "puts `cat 071/refine_module4.rb`"
   ]
  },
  {
   "cell_type": "code",
   "execution_count": 24,
   "metadata": {},
   "outputs": [
    {
     "name": "stdout",
     "output_type": "stream",
     "text": [
      "/Users/ariga/src/kawasakirb/meetups/pruby/071/create_proc.rb:2:in `block in create_proc': undefined method `hello' for \"joker1007\":String (NoMethodError)\n",
      "\tfrom 071/refine_module4.rb:14:in `<main>'\n",
      "\n"
     ]
    }
   ],
   "source": [
    "puts `bash -c \"ruby 071/refine_module4.rb 2>&1\"`"
   ]
  },
  {
   "cell_type": "code",
   "execution_count": 26,
   "metadata": {},
   "outputs": [
    {
     "name": "stdout",
     "output_type": "stream",
     "text": [
      "suginoy hello\n",
      "pera hello\n",
      "suginoyyyyyyyyyyyy! hello\n"
     ]
    }
   ],
   "source": [
    "module RefineModule\n",
    "  refine String do\n",
    "    def hello\n",
    "      puts \"#{self} hello\"\n",
    "    end\n",
    "  end\n",
    "end\n",
    "\n",
    "class Foo4\n",
    "  using RefineModule\n",
    "  \n",
    "  def hey\n",
    "    [\"suginoy\", \"pera\"].each(&:hello)\n",
    "  end\n",
    "  \n",
    "  def hey2(arg1)\n",
    "    arg1.hello\n",
    "  end\n",
    "end\n",
    "\n",
    "# Ruby 2.5: ok\n",
    "Foo4.new.hey\n",
    "Foo4.new.hey2(\"suginoyyyyyyyyyyyy!\")"
   ]
  },
  {
   "cell_type": "markdown",
   "metadata": {},
   "source": [
    "Refinementsは用法用量を守って正しくお使いください\n",
    "\n",
    "次回、 \"7-3 BasicObject#mthod_missing\" から"
   ]
  }
 ],
 "metadata": {
  "kernelspec": {
   "display_name": "Ruby 2.5.1",
   "language": "ruby",
   "name": "ruby"
  },
  "language_info": {
   "file_extension": ".rb",
   "mimetype": "application/x-ruby",
   "name": "ruby",
   "version": "2.5.1"
  }
 },
 "nbformat": 4,
 "nbformat_minor": 2
}
