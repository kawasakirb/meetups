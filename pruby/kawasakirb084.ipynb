{
 "cells": [
  {
   "cell_type": "code",
   "execution_count": null,
   "metadata": {},
   "outputs": [],
   "source": [
    "## 10-2-1 クラスが持つ値にアクセスする"
   ]
  },
  {
   "cell_type": "code",
   "execution_count": 4,
   "metadata": {},
   "outputs": [
    {
     "data": {
      "text/plain": [
       ":define_lazy_class_variable"
      ]
     },
     "execution_count": 4,
     "metadata": {},
     "output_type": "execute_result"
    }
   ],
   "source": [
    "class ClassVariables\n",
    "  @@class_variable = :class_variable\n",
    "  \n",
    "  def define_lazy_class_variable\n",
    "    @@lazy_class_variable = :lazy_class_variable\n",
    "  end\n",
    "end"
   ]
  },
  {
   "cell_type": "code",
   "execution_count": 5,
   "metadata": {},
   "outputs": [
    {
     "data": {
      "text/plain": [
       "[:@@class_variable]"
      ]
     },
     "execution_count": 5,
     "metadata": {},
     "output_type": "execute_result"
    }
   ],
   "source": [
    "ClassVariables.class_variables"
   ]
  },
  {
   "cell_type": "code",
   "execution_count": 6,
   "metadata": {},
   "outputs": [
    {
     "data": {
      "text/plain": [
       ":lazy_class_variable"
      ]
     },
     "execution_count": 6,
     "metadata": {},
     "output_type": "execute_result"
    }
   ],
   "source": [
    "ClassVariables.new.define_lazy_class_variable"
   ]
  },
  {
   "cell_type": "code",
   "execution_count": 7,
   "metadata": {},
   "outputs": [
    {
     "data": {
      "text/plain": [
       "[:@@class_variable, :@@lazy_class_variable]"
      ]
     },
     "execution_count": 7,
     "metadata": {},
     "output_type": "execute_result"
    }
   ],
   "source": [
    "ClassVariables.class_variables"
   ]
  },
  {
   "cell_type": "code",
   "execution_count": 8,
   "metadata": {},
   "outputs": [
    {
     "data": {
      "text/plain": [
       "true"
      ]
     },
     "execution_count": 8,
     "metadata": {},
     "output_type": "execute_result"
    }
   ],
   "source": [
    "ClassVariables.class_variable_defined? '@@class_variable'"
   ]
  },
  {
   "cell_type": "code",
   "execution_count": 9,
   "metadata": {},
   "outputs": [
    {
     "data": {
      "text/plain": [
       "false"
      ]
     },
     "execution_count": 9,
     "metadata": {},
     "output_type": "execute_result"
    }
   ],
   "source": [
    "ClassVariables.class_variable_defined? '@@undefined_class_variable'"
   ]
  },
  {
   "cell_type": "code",
   "execution_count": 10,
   "metadata": {},
   "outputs": [
    {
     "data": {
      "text/plain": [
       ":class_variable"
      ]
     },
     "execution_count": 10,
     "metadata": {},
     "output_type": "execute_result"
    }
   ],
   "source": [
    "ClassVariables.class_variable_get '@@class_variable'"
   ]
  },
  {
   "cell_type": "code",
   "execution_count": null,
   "metadata": {},
   "outputs": [
    {
     "name": "stderr",
     "output_type": "stream",
     "text": [
      "/home/jovyan/.gem/ruby/2.7.0/gems/pry-0.12.2/lib/pry/exceptions.rb:28: warning: $SAFE will become a normal global variable in Ruby 3.0\n"
     ]
    },
    {
     "ename": "NameError",
     "evalue": "uninitialized class variable @@undefined_class_variable in ClassVariables",
     "output_type": "error",
     "traceback": [
      "\u001b[31mNameError\u001b[0m: uninitialized class variable @@undefined_class_variable in ClassVariables",
      "(pry):17:in `class_variable_get'",
      "(pry):17:in `<main>'",
      "/home/jovyan/.gem/ruby/2.7.0/gems/pry-0.12.2/lib/pry/pry_instance.rb:387:in `eval'",
      "/home/jovyan/.gem/ruby/2.7.0/gems/pry-0.12.2/lib/pry/pry_instance.rb:387:in `evaluate_ruby'",
      "/home/jovyan/.gem/ruby/2.7.0/gems/pry-0.12.2/lib/pry/pry_instance.rb:355:in `handle_line'",
      "/home/jovyan/.gem/ruby/2.7.0/gems/pry-0.12.2/lib/pry/pry_instance.rb:274:in `block (2 levels) in eval'",
      "/home/jovyan/.gem/ruby/2.7.0/gems/pry-0.12.2/lib/pry/pry_instance.rb:273:in `catch'",
      "/home/jovyan/.gem/ruby/2.7.0/gems/pry-0.12.2/lib/pry/pry_instance.rb:273:in `block in eval'",
      "/home/jovyan/.gem/ruby/2.7.0/gems/pry-0.12.2/lib/pry/pry_instance.rb:272:in `catch'",
      "/home/jovyan/.gem/ruby/2.7.0/gems/pry-0.12.2/lib/pry/pry_instance.rb:272:in `eval'",
      "/home/jovyan/.gem/ruby/2.7.0/gems/iruby-0.4.0/lib/iruby/backend.rb:66:in `eval'",
      "/home/jovyan/.gem/ruby/2.7.0/gems/iruby-0.4.0/lib/iruby/backend.rb:12:in `eval'",
      "/home/jovyan/.gem/ruby/2.7.0/gems/iruby-0.4.0/lib/iruby/kernel.rb:90:in `execute_request'",
      "/home/jovyan/.gem/ruby/2.7.0/gems/iruby-0.4.0/lib/iruby/kernel.rb:49:in `dispatch'",
      "/home/jovyan/.gem/ruby/2.7.0/gems/iruby-0.4.0/lib/iruby/kernel.rb:38:in `run'",
      "/home/jovyan/.gem/ruby/2.7.0/gems/iruby-0.4.0/lib/iruby/command.rb:110:in `run_kernel'",
      "/home/jovyan/.gem/ruby/2.7.0/gems/iruby-0.4.0/lib/iruby/command.rb:40:in `run'",
      "/home/jovyan/.gem/ruby/2.7.0/gems/iruby-0.4.0/bin/iruby:5:in `<top (required)>'",
      "/home/jovyan/.gem/ruby/2.7.0/bin/iruby:23:in `load'",
      "/home/jovyan/.gem/ruby/2.7.0/bin/iruby:23:in `<main>'"
     ]
    }
   ],
   "source": [
    "ClassVariables.class_variable_get '@@undefined_class_variable'"
   ]
  },
  {
   "cell_type": "code",
   "execution_count": 12,
   "metadata": {},
   "outputs": [],
   "source": [
    "## クラス変数に値を設定する"
   ]
  },
  {
   "cell_type": "code",
   "execution_count": 14,
   "metadata": {},
   "outputs": [
    {
     "data": {
      "text/plain": [
       ":class_variable_set"
      ]
     },
     "execution_count": 14,
     "metadata": {},
     "output_type": "execute_result"
    }
   ],
   "source": [
    "ClassVariables.class_variable_set '@@class_variable', :class_variable_set"
   ]
  },
  {
   "cell_type": "code",
   "execution_count": 15,
   "metadata": {},
   "outputs": [
    {
     "data": {
      "text/plain": [
       ":class_variable_set"
      ]
     },
     "execution_count": 15,
     "metadata": {},
     "output_type": "execute_result"
    }
   ],
   "source": [
    "ClassVariables.class_variable_get '@@class_variable'"
   ]
  },
  {
   "cell_type": "code",
   "execution_count": null,
   "metadata": {},
   "outputs": [
    {
     "name": "stderr",
     "output_type": "stream",
     "text": [
      "/home/jovyan/.gem/ruby/2.7.0/gems/pry-0.12.2/lib/pry/exceptions.rb:28: warning: $SAFE will become a normal global variable in Ruby 3.0\n"
     ]
    },
    {
     "ename": "NameError",
     "evalue": "uninitialized class variable @@undefined_class_variable in ClassVariables",
     "output_type": "error",
     "traceback": [
      "\u001b[31mNameError\u001b[0m: uninitialized class variable @@undefined_class_variable in ClassVariables",
      "(pry):22:in `class_variable_get'",
      "(pry):22:in `<main>'",
      "/home/jovyan/.gem/ruby/2.7.0/gems/pry-0.12.2/lib/pry/pry_instance.rb:387:in `eval'",
      "/home/jovyan/.gem/ruby/2.7.0/gems/pry-0.12.2/lib/pry/pry_instance.rb:387:in `evaluate_ruby'",
      "/home/jovyan/.gem/ruby/2.7.0/gems/pry-0.12.2/lib/pry/pry_instance.rb:355:in `handle_line'",
      "/home/jovyan/.gem/ruby/2.7.0/gems/pry-0.12.2/lib/pry/pry_instance.rb:274:in `block (2 levels) in eval'",
      "/home/jovyan/.gem/ruby/2.7.0/gems/pry-0.12.2/lib/pry/pry_instance.rb:273:in `catch'",
      "/home/jovyan/.gem/ruby/2.7.0/gems/pry-0.12.2/lib/pry/pry_instance.rb:273:in `block in eval'",
      "/home/jovyan/.gem/ruby/2.7.0/gems/pry-0.12.2/lib/pry/pry_instance.rb:272:in `catch'",
      "/home/jovyan/.gem/ruby/2.7.0/gems/pry-0.12.2/lib/pry/pry_instance.rb:272:in `eval'",
      "/home/jovyan/.gem/ruby/2.7.0/gems/iruby-0.4.0/lib/iruby/backend.rb:66:in `eval'",
      "/home/jovyan/.gem/ruby/2.7.0/gems/iruby-0.4.0/lib/iruby/backend.rb:12:in `eval'",
      "/home/jovyan/.gem/ruby/2.7.0/gems/iruby-0.4.0/lib/iruby/kernel.rb:90:in `execute_request'",
      "/home/jovyan/.gem/ruby/2.7.0/gems/iruby-0.4.0/lib/iruby/kernel.rb:49:in `dispatch'",
      "/home/jovyan/.gem/ruby/2.7.0/gems/iruby-0.4.0/lib/iruby/kernel.rb:38:in `run'",
      "/home/jovyan/.gem/ruby/2.7.0/gems/iruby-0.4.0/lib/iruby/command.rb:110:in `run_kernel'",
      "/home/jovyan/.gem/ruby/2.7.0/gems/iruby-0.4.0/lib/iruby/command.rb:40:in `run'",
      "/home/jovyan/.gem/ruby/2.7.0/gems/iruby-0.4.0/bin/iruby:5:in `<top (required)>'",
      "/home/jovyan/.gem/ruby/2.7.0/bin/iruby:23:in `load'",
      "/home/jovyan/.gem/ruby/2.7.0/bin/iruby:23:in `<main>'"
     ]
    }
   ],
   "source": [
    "ClassVariables.class_variable_get '@@undefined_class_variable'"
   ]
  },
  {
   "cell_type": "code",
   "execution_count": 17,
   "metadata": {},
   "outputs": [
    {
     "data": {
      "text/plain": [
       ":defined"
      ]
     },
     "execution_count": 17,
     "metadata": {},
     "output_type": "execute_result"
    }
   ],
   "source": [
    "ClassVariables.class_variable_set '@@undefined_class_variable', :defined"
   ]
  },
  {
   "cell_type": "code",
   "execution_count": 18,
   "metadata": {},
   "outputs": [
    {
     "data": {
      "text/plain": [
       ":defined"
      ]
     },
     "execution_count": 18,
     "metadata": {},
     "output_type": "execute_result"
    }
   ],
   "source": [
    "ClassVariables.class_variable_get '@@undefined_class_variable'"
   ]
  },
  {
   "cell_type": "code",
   "execution_count": null,
   "metadata": {
    "scrolled": true
   },
   "outputs": [
    {
     "name": "stderr",
     "output_type": "stream",
     "text": [
      "/home/jovyan/.gem/ruby/2.7.0/gems/pry-0.12.2/lib/pry/exceptions.rb:28: warning: $SAFE will become a normal global variable in Ruby 3.0\n"
     ]
    },
    {
     "ename": "NameError",
     "evalue": "`@tekitou' is not allowed as a class variable name",
     "output_type": "error",
     "traceback": [
      "\u001b[31mNameError\u001b[0m: `@tekitou' is not allowed as a class variable name",
      "(pry):25:in `class_variable_get'",
      "(pry):25:in `<main>'",
      "/home/jovyan/.gem/ruby/2.7.0/gems/pry-0.12.2/lib/pry/pry_instance.rb:387:in `eval'",
      "/home/jovyan/.gem/ruby/2.7.0/gems/pry-0.12.2/lib/pry/pry_instance.rb:387:in `evaluate_ruby'",
      "/home/jovyan/.gem/ruby/2.7.0/gems/pry-0.12.2/lib/pry/pry_instance.rb:355:in `handle_line'",
      "/home/jovyan/.gem/ruby/2.7.0/gems/pry-0.12.2/lib/pry/pry_instance.rb:274:in `block (2 levels) in eval'",
      "/home/jovyan/.gem/ruby/2.7.0/gems/pry-0.12.2/lib/pry/pry_instance.rb:273:in `catch'",
      "/home/jovyan/.gem/ruby/2.7.0/gems/pry-0.12.2/lib/pry/pry_instance.rb:273:in `block in eval'",
      "/home/jovyan/.gem/ruby/2.7.0/gems/pry-0.12.2/lib/pry/pry_instance.rb:272:in `catch'",
      "/home/jovyan/.gem/ruby/2.7.0/gems/pry-0.12.2/lib/pry/pry_instance.rb:272:in `eval'",
      "/home/jovyan/.gem/ruby/2.7.0/gems/iruby-0.4.0/lib/iruby/backend.rb:66:in `eval'",
      "/home/jovyan/.gem/ruby/2.7.0/gems/iruby-0.4.0/lib/iruby/backend.rb:12:in `eval'",
      "/home/jovyan/.gem/ruby/2.7.0/gems/iruby-0.4.0/lib/iruby/kernel.rb:90:in `execute_request'",
      "/home/jovyan/.gem/ruby/2.7.0/gems/iruby-0.4.0/lib/iruby/kernel.rb:49:in `dispatch'",
      "/home/jovyan/.gem/ruby/2.7.0/gems/iruby-0.4.0/lib/iruby/kernel.rb:38:in `run'",
      "/home/jovyan/.gem/ruby/2.7.0/gems/iruby-0.4.0/lib/iruby/command.rb:110:in `run_kernel'",
      "/home/jovyan/.gem/ruby/2.7.0/gems/iruby-0.4.0/lib/iruby/command.rb:40:in `run'",
      "/home/jovyan/.gem/ruby/2.7.0/gems/iruby-0.4.0/bin/iruby:5:in `<top (required)>'",
      "/home/jovyan/.gem/ruby/2.7.0/bin/iruby:23:in `load'",
      "/home/jovyan/.gem/ruby/2.7.0/bin/iruby:23:in `<main>'"
     ]
    }
   ],
   "source": [
    "ClassVariables.class_variable_get '@tekitou'"
   ]
  },
  {
   "cell_type": "code",
   "execution_count": null,
   "metadata": {
    "scrolled": true
   },
   "outputs": [
    {
     "name": "stderr",
     "output_type": "stream",
     "text": [
      "/home/jovyan/.gem/ruby/2.7.0/gems/pry-0.12.2/lib/pry/exceptions.rb:28: warning: $SAFE will become a normal global variable in Ruby 3.0\n"
     ]
    },
    {
     "ename": "NameError",
     "evalue": "`@@' is not allowed as a class variable name",
     "output_type": "error",
     "traceback": [
      "\u001b[31mNameError\u001b[0m: `@@' is not allowed as a class variable name",
      "(pry):26:in `class_variable_get'",
      "(pry):26:in `<main>'",
      "/home/jovyan/.gem/ruby/2.7.0/gems/pry-0.12.2/lib/pry/pry_instance.rb:387:in `eval'",
      "/home/jovyan/.gem/ruby/2.7.0/gems/pry-0.12.2/lib/pry/pry_instance.rb:387:in `evaluate_ruby'",
      "/home/jovyan/.gem/ruby/2.7.0/gems/pry-0.12.2/lib/pry/pry_instance.rb:355:in `handle_line'",
      "/home/jovyan/.gem/ruby/2.7.0/gems/pry-0.12.2/lib/pry/pry_instance.rb:274:in `block (2 levels) in eval'",
      "/home/jovyan/.gem/ruby/2.7.0/gems/pry-0.12.2/lib/pry/pry_instance.rb:273:in `catch'",
      "/home/jovyan/.gem/ruby/2.7.0/gems/pry-0.12.2/lib/pry/pry_instance.rb:273:in `block in eval'",
      "/home/jovyan/.gem/ruby/2.7.0/gems/pry-0.12.2/lib/pry/pry_instance.rb:272:in `catch'",
      "/home/jovyan/.gem/ruby/2.7.0/gems/pry-0.12.2/lib/pry/pry_instance.rb:272:in `eval'",
      "/home/jovyan/.gem/ruby/2.7.0/gems/iruby-0.4.0/lib/iruby/backend.rb:66:in `eval'",
      "/home/jovyan/.gem/ruby/2.7.0/gems/iruby-0.4.0/lib/iruby/backend.rb:12:in `eval'",
      "/home/jovyan/.gem/ruby/2.7.0/gems/iruby-0.4.0/lib/iruby/kernel.rb:90:in `execute_request'",
      "/home/jovyan/.gem/ruby/2.7.0/gems/iruby-0.4.0/lib/iruby/kernel.rb:49:in `dispatch'",
      "/home/jovyan/.gem/ruby/2.7.0/gems/iruby-0.4.0/lib/iruby/kernel.rb:38:in `run'",
      "/home/jovyan/.gem/ruby/2.7.0/gems/iruby-0.4.0/lib/iruby/command.rb:110:in `run_kernel'",
      "/home/jovyan/.gem/ruby/2.7.0/gems/iruby-0.4.0/lib/iruby/command.rb:40:in `run'",
      "/home/jovyan/.gem/ruby/2.7.0/gems/iruby-0.4.0/bin/iruby:5:in `<top (required)>'",
      "/home/jovyan/.gem/ruby/2.7.0/bin/iruby:23:in `load'",
      "/home/jovyan/.gem/ruby/2.7.0/bin/iruby:23:in `<main>'"
     ]
    }
   ],
   "source": [
    "ClassVariables.class_variable_get '@@'"
   ]
  },
  {
   "cell_type": "code",
   "execution_count": null,
   "metadata": {},
   "outputs": [],
   "source": []
  }
 ],
 "metadata": {
  "kernelspec": {
   "display_name": "Ruby 2.7.0",
   "language": "ruby",
   "name": "ruby"
  },
  "language_info": {
   "file_extension": ".rb",
   "mimetype": "application/x-ruby",
   "name": "ruby",
   "version": "2.7.0"
  }
 },
 "nbformat": 4,
 "nbformat_minor": 2
}
