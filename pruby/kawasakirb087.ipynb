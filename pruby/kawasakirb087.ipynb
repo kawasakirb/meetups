{
 "cells": [
  {
   "cell_type": "markdown",
   "metadata": {},
   "source": [
    "### 10-2-3 クラスの継承構造を調べる"
   ]
  },
  {
   "cell_type": "code",
   "execution_count": 1,
   "metadata": {},
   "outputs": [
    {
     "data": {
      "text/plain": [
       "[ChildClass, ParentClass, IncludeModule, GrandParentClass, Object, JSON::Ext::Generator::GeneratorMethods::Object, Kernel, BasicObject]"
      ]
     },
     "execution_count": 1,
     "metadata": {},
     "output_type": "execute_result"
    }
   ],
   "source": [
    "module IncludeModule\n",
    "end\n",
    "\n",
    "class GrandParentClass\n",
    "end\n",
    "\n",
    "class ParentClass < GrandParentClass\n",
    "  include IncludeModule\n",
    "end\n",
    "\n",
    "class ChildClass < ParentClass\n",
    "end\n",
    "\n",
    "ChildClass.ancestors"
   ]
  },
  {
   "cell_type": "code",
   "execution_count": 2,
   "metadata": {},
   "outputs": [
    {
     "name": "stdout",
     "output_type": "stream",
     "text": [
      "[IncludeModule, JSON::Ext::Generator::GeneratorMethods::Object, Kernel]\n"
     ]
    },
    {
     "data": {
      "text/plain": [
       "ParentClass"
      ]
     },
     "execution_count": 2,
     "metadata": {},
     "output_type": "execute_result"
    }
   ],
   "source": [
    "p ChildClass.included_modules\n",
    "\n",
    "ChildClass.superclass"
   ]
  },
  {
   "cell_type": "markdown",
   "metadata": {},
   "source": [
    "### 10-2-4 クラスのネスト構造を調べる"
   ]
  },
  {
   "cell_type": "code",
   "execution_count": 4,
   "metadata": {},
   "outputs": [
    {
     "name": "stdout",
     "output_type": "stream",
     "text": [
      "[]\n",
      "[OutsideModule]\n",
      "[OutsideModule::InnerClass, OutsideModule]\n",
      "[OutsideModule::InnerClass::InnerInnerClass, OutsideModule::InnerClass, OutsideModule]\n",
      "[OutsideModule::InnerClass]\n",
      "[]\n"
     ]
    },
    {
     "data": {
      "text/plain": [
       "[]"
      ]
     },
     "execution_count": 4,
     "metadata": {},
     "output_type": "execute_result"
    }
   ],
   "source": [
    "p Module.nesting\n",
    "\n",
    "module OutsideModule\n",
    "  p Module.nesting\n",
    "  class InnerClass\n",
    "    p Module.nesting\n",
    "    class InnerInnerClass\n",
    "      p Module.nesting\n",
    "    end\n",
    "  end\n",
    "end\n",
    "\n",
    "class OutsideModule::InnerClass\n",
    "  p Module.nesting\n",
    "end\n",
    "\n",
    "OutsideModule::InnerClass.class_eval do\n",
    "  p Module.nesting\n",
    "end"
   ]
  },
  {
   "cell_type": "markdown",
   "metadata": {},
   "source": [
    "### 10-2-5 クラスに定義されたクラスメソッドを調べる"
   ]
  },
  {
   "cell_type": "code",
   "execution_count": 5,
   "metadata": {},
   "outputs": [
    {
     "name": "stdout",
     "output_type": "stream",
     "text": [
      "[:class_method, :new, :json_creatable?, :allocate, :superclass, :<=>, :<=, :>=, :==, :===, :included_modules, :include?, :ancestors, :attr, :attr_reader, :attr_writer, :attr_accessor, :freeze, :inspect, :public_instance_methods, :instance_methods, :const_missing, :protected_instance_methods, :private_instance_methods, :const_set, :constants, :remove_class_variable, :class_variable_get, :class_variable_set, :class_variable_defined?, :const_get, :const_defined?, :<, :>, :public_constant, :class_variables, :private_constant, :deprecate_constant, :singleton_class?, :const_source_location, :to_s, :class_eval, :include, :module_exec, :module_eval, :prepend, :undef_method, :alias_method, :class_exec, :remove_method, :method_defined?, :name, :private_class_method, :public_method_defined?, :private_method_defined?, :protected_method_defined?, :public_class_method, :instance_method, :public_instance_method, :define_method, :autoload, :autoload?, :to_json, :dup, :itself, :yield_self, :then, :taint, :tainted?, :untaint, :untrust, :untrusted?, :trust, :frozen?, :methods, :singleton_methods, :protected_methods, :private_methods, :public_methods, :instance_variables, :instance_variable_get, :instance_variable_set, :instance_variable_defined?, :remove_instance_variable, :instance_of?, :kind_of?, :is_a?, :tap, :singleton_class, :clone, :display, :class, :hash, :public_send, :method, :public_method, :singleton_method, :define_singleton_method, :extend, :to_enum, :enum_for, :=~, :!~, :nil?, :eql?, :respond_to?, :object_id, :send, :__send__, :!, :!=, :equal?, :__id__, :instance_eval, :instance_exec]\n"
     ]
    },
    {
     "data": {
      "text/plain": [
       "[:class_method]"
      ]
     },
     "execution_count": 5,
     "metadata": {},
     "output_type": "execute_result"
    }
   ],
   "source": [
    "class ChildClass\n",
    "  class << self\n",
    "    def class_method\n",
    "    end\n",
    "  end\n",
    "  \n",
    "  def instance_method\n",
    "  end\n",
    "end\n",
    "\n",
    "p ChildClass.methods\n",
    "ChildClass.methods(false)"
   ]
  },
  {
   "cell_type": "code",
   "execution_count": 10,
   "metadata": {},
   "outputs": [
    {
     "data": {
      "text/plain": [
       "[:instance_method, :to_json, :dup, :itself, :yield_self, :then, :taint, :tainted?, :untaint, :untrust, :untrusted?, :trust, :frozen?, :methods, :singleton_methods, :protected_methods, :private_methods, :public_methods, :instance_variables, :instance_variable_get, :instance_variable_set, :instance_variable_defined?, :remove_instance_variable, :instance_of?, :kind_of?, :is_a?, :tap, :singleton_class, :clone, :display, :class, :hash, :public_send, :method, :public_method, :singleton_method, :define_singleton_method, :extend, :to_enum, :enum_for, :<=>, :===, :=~, :!~, :nil?, :eql?, :respond_to?, :freeze, :inspect, :object_id, :send, :to_s, :__send__, :!, :==, :!=, :equal?, :__id__, :instance_eval, :instance_exec]"
      ]
     },
     "execution_count": 10,
     "metadata": {},
     "output_type": "execute_result"
    }
   ],
   "source": [
    "cc = ChildClass.new\n",
    "cc.methods"
   ]
  },
  {
   "cell_type": "code",
   "execution_count": 11,
   "metadata": {},
   "outputs": [
    {
     "data": {
      "text/plain": [
       "[]"
      ]
     },
     "execution_count": 11,
     "metadata": {},
     "output_type": "execute_result"
    }
   ],
   "source": [
    "# https://docs.ruby-lang.org/ja/latest/method/Object/i/methods.html\n",
    "# false を渡すと Object#singleton_methods(false) と同じになる\n",
    "cc.methods(false)"
   ]
  },
  {
   "cell_type": "markdown",
   "metadata": {},
   "source": [
    "次回 「10-2-6 クラスやモジュールからインスタンスメソッドを削除する」"
   ]
  }
 ],
 "metadata": {
  "kernelspec": {
   "display_name": "Ruby 2.7.1",
   "language": "ruby",
   "name": "ruby"
  },
  "language_info": {
   "file_extension": ".rb",
   "mimetype": "application/x-ruby",
   "name": "ruby",
   "version": "2.7.1"
  }
 },
 "nbformat": 4,
 "nbformat_minor": 4
}
