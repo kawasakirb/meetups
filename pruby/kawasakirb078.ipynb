{
 "cells": [
  {
   "cell_type": "markdown",
   "metadata": {},
   "source": [
    "## 9-3 MethodオブジェクトとProcオブジェクト"
   ]
  },
  {
   "cell_type": "markdown",
   "metadata": {},
   "source": [
    "### 9-3-1 MethodオブジェクトをProcオブジェクトに変換する\n",
    "#### ■ Method#to_procを使う"
   ]
  },
  {
   "cell_type": "code",
   "execution_count": 4,
   "metadata": {},
   "outputs": [
    {
     "name": "stdout",
     "output_type": "stream",
     "text": [
      "#<Proc:0x0000558c0632b080 (lambda)>\n"
     ]
    },
    {
     "data": {
      "text/plain": [
       "3"
      ]
     },
     "execution_count": 4,
     "metadata": {},
     "output_type": "execute_result"
    }
   ],
   "source": [
    "class CurryMethod\n",
    "  def sum(a, b)\n",
    "    a + b\n",
    "  end\n",
    "end\n",
    "\n",
    "sum_method = CurryMethod.new.method(:sum)\n",
    "p(sum_method.to_proc)\n",
    "sum_method.to_proc.call(1, 2)"
   ]
  },
  {
   "cell_type": "code",
   "execution_count": 6,
   "metadata": {},
   "outputs": [
    {
     "data": {
      "text/plain": [
       "[0, 2, 4, 6, 8, 10, 12, 14, 16, 18, 20]"
      ]
     },
     "execution_count": 6,
     "metadata": {},
     "output_type": "execute_result"
    }
   ],
   "source": [
    "(0..10).map(&(2.method(:*).to_proc))"
   ]
  },
  {
   "cell_type": "markdown",
   "metadata": {},
   "source": [
    "#### ■ Method#curryを使う"
   ]
  },
  {
   "cell_type": "code",
   "execution_count": 8,
   "metadata": {},
   "outputs": [
    {
     "name": "stdout",
     "output_type": "stream",
     "text": [
      "#<Proc:0x0000558c0693e4e0 (lambda)>\n",
      "3\n",
      "#<Proc:0x0000558c06927308 (lambda)>\n"
     ]
    },
    {
     "data": {
      "text/plain": [
       "3"
      ]
     },
     "execution_count": 8,
     "metadata": {},
     "output_type": "execute_result"
    }
   ],
   "source": [
    "p sum_method.curry\n",
    "p sum_method.curry.call(1, 2)\n",
    "p sum_method.curry.call(1)\n",
    "sum_method.curry.call(1).call(2)"
   ]
  },
  {
   "cell_type": "markdown",
   "metadata": {},
   "source": [
    "### 9-3-2 Methodオブジェクトの使われ方"
   ]
  },
  {
   "cell_type": "code",
   "execution_count": 9,
   "metadata": {},
   "outputs": [
    {
     "data": {
      "text/plain": [
       ":const_defined_in?"
      ]
     },
     "execution_count": 9,
     "metadata": {},
     "output_type": "execute_result"
    }
   ],
   "source": [
    "class Foo\n",
    "  if ::Object.method(:const_defined?).arity == 1\n",
    "    def self.const_defined_in?(modul, constant)\n",
    "      modul.const_defined?(constant)\n",
    "    end\n",
    "  else\n",
    "    def self.const_defined_in?(modul, constant)\n",
    "      modul.const_defined?(modul, false)\n",
    "    end\n",
    "  end\n",
    "end"
   ]
  },
  {
   "cell_type": "markdown",
   "metadata": {},
   "source": [
    "#### ■ Methodオブジェクトを関数オブジェクトのように利用する"
   ]
  },
  {
   "cell_type": "code",
   "execution_count": 10,
   "metadata": {},
   "outputs": [
    {
     "data": {
      "text/plain": [
       ":initilize"
      ]
     },
     "execution_count": 10,
     "metadata": {},
     "output_type": "execute_result"
    }
   ],
   "source": [
    "class Bar\n",
    "  def initilize(src, trim_mode, percent)\n",
    "    super\n",
    "    @trim_mode = trim_mode\n",
    "    @percent = percent\n",
    "    case @trim_mode\n",
    "    when '>'\n",
    "      @scan_line = self.method(:trim_line1)\n",
    "    when '<>'\n",
    "      @scan_line = self.method(:trim_line2)\n",
    "    when '-'\n",
    "      @scan_line = self.method(:explicit_trim_line)\n",
    "    else\n",
    "      @scan_line = self.method(:scan_line)\n",
    "    end\n",
    "  end\n",
    "end"
   ]
  },
  {
   "cell_type": "code",
   "execution_count": null,
   "metadata": {},
   "outputs": [],
   "source": []
  }
 ],
 "metadata": {
  "kernelspec": {
   "display_name": "Ruby 2.5.1",
   "language": "ruby",
   "name": "ruby"
  },
  "language_info": {
   "file_extension": ".rb",
   "mimetype": "application/x-ruby",
   "name": "ruby",
   "version": "2.5.1"
  }
 },
 "nbformat": 4,
 "nbformat_minor": 2
}
