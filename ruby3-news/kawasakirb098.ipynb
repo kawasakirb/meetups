{
 "cells": [
  {
   "cell_type": "markdown",
   "id": "ee3df93c-d41a-4e13-9756-371b36fd10f9",
   "metadata": {},
   "source": [
    "# プロと読み解く Ruby 3.0 NEWS"
   ]
  },
  {
   "cell_type": "markdown",
   "id": "06c12084-de6d-4e8e-9288-f634c1b3f387",
   "metadata": {},
   "source": [
    "### Fiber scheduler が導入された"
   ]
  },
  {
   "cell_type": "markdown",
   "id": "956162fa-568e-40cf-957c-1d0b219f89bd",
   "metadata": {},
   "source": [
    "### 機能の紹介"
   ]
  },
  {
   "cell_type": "code",
   "execution_count": 1,
   "id": "12f43f78-8554-4cfe-8515-19e01fe213bc",
   "metadata": {},
   "outputs": [
    {
     "name": "stdout",
     "output_type": "stream",
     "text": [
      "[:kernel_sleep, 10]\n"
     ]
    },
    {
     "data": {
      "text/plain": [
       "0"
      ]
     },
     "execution_count": 1,
     "metadata": {},
     "output_type": "execute_result"
    }
   ],
   "source": [
    "class MyScheduler\n",
    "  def method_missing *args\n",
    "    p args\n",
    "  end\n",
    "end\n",
    "\n",
    "Fiber.set_scheduler(MyScheduler.new)\n",
    "\n",
    "Fiber.new{\n",
    "  sleep(10)\n",
    "}.resume"
   ]
  },
  {
   "cell_type": "markdown",
   "id": "1a09227e-fba9-4f98-852d-ac78e887a4cf",
   "metadata": {},
   "source": [
    "### 機能についての個人的な意見"
   ]
  },
  {
   "cell_type": "markdown",
   "id": "bb951390-71f9-4423-b726-2dd679846c5c",
   "metadata": {},
   "source": [
    "### Fiberごとのバックトレース情報が取れる"
   ]
  },
  {
   "cell_type": "code",
   "execution_count": 2,
   "id": "a7bfeb46-806d-4805-aff4-ca04022b3e84",
   "metadata": {},
   "outputs": [
    {
     "name": "stdout",
     "output_type": "stream",
     "text": []
    },
    {
     "name": "stdout",
     "output_type": "stream",
     "text": [
      "[\"(irb):in `yield'\", \"(irb):in `foo'\", \"(irb):3:in `block in <main>'\"]\n"
     ]
    },
    {
     "data": {
      "text/plain": [
       "[\"(irb):1:in `yield'\", \"(irb):1:in `bar'\", \"(irb):4:in `block in <main>'\"]"
      ]
     },
     "execution_count": 2,
     "metadata": {},
     "output_type": "execute_result"
    }
   ],
   "source": [
    "def foo = Fiber.yield\n",
    "def bar = Fiber.yield\n",
    "\n",
    "f1 = Fiber.new{ foo }; f1.resume\n",
    "f2 = Fiber.new{ bar }; f2.resume\n",
    "\n",
    "pp f1.backtrace\n",
    "f2.backtrace\n"
   ]
  },
  {
   "cell_type": "code",
   "execution_count": 6,
   "id": "fb713308-438e-47f6-8793-c8f25f0976bc",
   "metadata": {},
   "outputs": [
    {
     "ename": "RuntimeError",
     "evalue": "buz!!!",
     "output_type": "error",
     "traceback": [
      "\u001b[31mRuntimeError\u001b[0m: buz!!!",
      "(irb):1:in `buz'",
      "(irb):5:in `block in <main>'"
     ]
    }
   ],
   "source": [
    "def buz\n",
    "    raise \"buz!!!\"\n",
    "    Fiber.yield\n",
    "end\n",
    "\n",
    "f3 = Fiber.new{ buz }\n",
    "f3.resume"
   ]
  },
  {
   "cell_type": "markdown",
   "id": "9c8aa899-0988-411b-817a-88040bdcc5b2",
   "metadata": {},
   "source": [
    "### Fiber#transfer の制限が緩和された"
   ]
  },
  {
   "cell_type": "code",
   "execution_count": 7,
   "id": "63cd89c9-5d2c-45a1-b70d-9fc569e32831",
   "metadata": {},
   "outputs": [
    {
     "name": "stdout",
     "output_type": "stream",
     "text": [
      "10\n"
     ]
    },
    {
     "data": {
      "text/plain": [
       "20"
      ]
     },
     "execution_count": 7,
     "metadata": {},
     "output_type": "execute_result"
    }
   ],
   "source": [
    "require 'fiber'\n",
    "f1 = nil\n",
    "f2 = Fiber.new{\n",
    "  f1.transfer\n",
    "}\n",
    "f1 = Fiber.new{\n",
    "  f2.transfer\n",
    "  Fiber.yield 10\n",
    "  Fiber.yield 20\n",
    "}\n",
    "p f1.resume #=> 10\n",
    "f1.resume "
   ]
  },
  {
   "cell_type": "markdown",
   "id": "9ab3ab6d-4764-4846-800e-65a380796f76",
   "metadata": {},
   "source": [
    "次回「compaction GC を自動でやってくれる GC.auto_compact = true が追加された」から"
   ]
  },
  {
   "cell_type": "code",
   "execution_count": null,
   "id": "b5da380f-6cb7-4b44-b5da-c6936ac8728c",
   "metadata": {},
   "outputs": [],
   "source": []
  }
 ],
 "metadata": {
  "kernelspec": {
   "display_name": "Ruby 3.0.2",
   "language": "ruby",
   "name": "ruby-3.0.2"
  },
  "language_info": {
   "file_extension": ".rb",
   "mimetype": "application/x-ruby",
   "name": "ruby",
   "version": "3.0.2"
  }
 },
 "nbformat": 4,
 "nbformat_minor": 5
}
